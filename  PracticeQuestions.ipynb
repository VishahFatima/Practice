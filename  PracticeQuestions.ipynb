{
 "cells": [
  {
   "cell_type": "markdown",
   "id": "0ea65523",
   "metadata": {},
   "source": [
    "## Question 1\n",
    "Given two integer numbers, return their product only if the product is equal to or lower than 1000. Otherwise, return their sum."
   ]
  },
  {
   "cell_type": "code",
   "execution_count": 14,
   "id": "277a476a",
   "metadata": {},
   "outputs": [
    {
     "name": "stdout",
     "output_type": "stream",
     "text": [
      "Enter any number455\n",
      "Enter any number23\n",
      "478\n"
     ]
    }
   ],
   "source": [
    "number1 = int(input(\"Enter any number\"))\n",
    "number2 = int(input(\"Enter any number\"))\n",
    "product = number1 * number2\n",
    "add = number1 + number2 \n",
    "if product <=1000:\n",
    "    print(product)\n",
    "else:\n",
    "    print(add)\n"
   ]
  },
  {
   "cell_type": "markdown",
   "id": "5f7be54a",
   "metadata": {},
   "source": [
    "## Question 2\n",
    "Write a program to iterate the first 10 numbers, and in each iteration, print the sum of the current and previous number."
   ]
  },
  {
   "cell_type": "code",
   "execution_count": 18,
   "id": "179315d7",
   "metadata": {},
   "outputs": [
    {
     "name": "stdout",
     "output_type": "stream",
     "text": [
      "current number 1 previous number 0 sum 1\n",
      "current number 2 previous number 0 sum 2\n",
      "current number 3 previous number 0 sum 3\n",
      "current number 4 previous number 0 sum 4\n",
      "current number 5 previous number 0 sum 5\n",
      "current number 6 previous number 0 sum 6\n",
      "current number 7 previous number 0 sum 7\n",
      "current number 8 previous number 0 sum 8\n",
      "current number 9 previous number 0 sum 9\n",
      "current number 10 previous number 0 sum 10\n"
     ]
    }
   ],
   "source": [
    "previous_num = 0\n",
    "for i in range(1,11):\n",
    "    next_number = previous_num + i\n",
    "    print(\"current number\", i, \"previous number\", previous_num , \"sum\", next_number)"
   ]
  },
  {
   "cell_type": "markdown",
   "id": "189ebebd",
   "metadata": {},
   "source": [
    "## Question 3\n",
    "Write a program to accept a string from the user and display characters that are present at an even index number.\n",
    "\n",
    "For example, str = \"pynative\" so you should display ‘p’, ‘n’, ‘t’, ‘v’."
   ]
  },
  {
   "cell_type": "code",
   "execution_count": 17,
   "id": "de362433",
   "metadata": {},
   "outputs": [
    {
     "name": "stdout",
     "output_type": "stream",
     "text": [
      "Enter any stringskjahdklarky3q\n",
      "index[ 0 ] s\n",
      "index[ 2 ] j\n",
      "index[ 4 ] h\n",
      "index[ 6 ] k\n",
      "index[ 8 ] a\n",
      "index[ 10 ] k\n",
      "index[ 12 ] 3\n"
     ]
    }
   ],
   "source": [
    "string = input(\"Enter any string\")\n",
    "length = len(string)\n",
    "for i in range(0, length -1, 2):\n",
    "    print(\"index[\", i, \"]\", string[i])    "
   ]
  },
  {
   "cell_type": "markdown",
   "id": "db0da59f",
   "metadata": {},
   "source": [
    "## Question 4\n",
    "Iterate the given list of numbers and print only those numbers which are divisible by 5"
   ]
  },
  {
   "cell_type": "code",
   "execution_count": 21,
   "id": "671928ca",
   "metadata": {},
   "outputs": [
    {
     "name": "stdout",
     "output_type": "stream",
     "text": [
      "10\n",
      "20\n",
      "55\n"
     ]
    }
   ],
   "source": [
    "numbers = [10, 20, 33, 46, 55]\n",
    "for i in numbers:\n",
    "    if i%5 == 0:\n",
    "        print(i)"
   ]
  },
  {
   "cell_type": "markdown",
   "id": "2fc169f3",
   "metadata": {},
   "source": [
    "## Question 5\n",
    "Write a program to remove characters from a string starting from zero up to n and return a new string.\n",
    "\n",
    "For example:\n",
    "\n",
    "remove_chars(\"pynative\", 4) so output must be tive. Here, we need to remove the first four characters from a string.\n",
    "remove_chars(\"pynative\", 2) so output must be native. Here, we need to remove the first two characters from a string.\n",
    "Note: n must be less than the length of the string."
   ]
  },
  {
   "cell_type": "code",
   "execution_count": 5,
   "id": "257a5c37",
   "metadata": {},
   "outputs": [
    {
     "name": "stdout",
     "output_type": "stream",
     "text": [
      "Removing characters from a string\n",
      "orignal string: pynative\n",
      "tive\n",
      "orignal string: pynative\n",
      "native\n"
     ]
    }
   ],
   "source": [
    "def remove_chars(word, n):\n",
    "    print('orignal string:', word)\n",
    "    x = word[n:]\n",
    "    return x\n",
    "\n",
    "print(\"Removing characters from a string\")\n",
    "print(remove_chars(\"pynative\", 4))\n",
    "print(remove_chars(\"pynative\", 2))\n"
   ]
  },
  {
   "cell_type": "markdown",
   "id": "b6a32804",
   "metadata": {},
   "source": [
    "## Question 6\n",
    "Write a function to return True if the first and last number of a given list is same. If numbers are different then return False.\n",
    "\n",
    "Given:\n",
    "\n",
    "numbers_x = [10, 20, 30, 40, 10]\n",
    "\n",
    "numbers_y = [75, 65, 35, 75, 30]\n",
    "\n",
    "Expected output:\n",
    "\n",
    "Given list: [10, 20, 30, 40, 10]\n",
    "result is True\n",
    "\n",
    "numbers_y = [75, 65, 35, 75, 30]\n",
    "result is False"
   ]
  },
  {
   "cell_type": "code",
   "execution_count": 6,
   "id": "2b8c533b",
   "metadata": {},
   "outputs": [
    {
     "name": "stdout",
     "output_type": "stream",
     "text": [
      "result is True\n",
      "result is False\n"
     ]
    }
   ],
   "source": [
    "def first_last_same(numberlist):\n",
    "    first_num = numberlist[0]\n",
    "    last_num = numberlist[-1]\n",
    "    \n",
    "    if first_num == last_num:\n",
    "        return True\n",
    "    else: \n",
    "        return False\n",
    "numbers_x = [10, 20, 30, 40, 10]\n",
    "print(\"result is\", first_last_same(numbers_x))\n",
    "\n",
    "numbers_y = [75, 65, 35, 75, 30]\n",
    "print(\"result is\", first_last_same(numbers_y))\n",
    "    "
   ]
  },
  {
   "cell_type": "markdown",
   "id": "5be66474",
   "metadata": {},
   "source": [
    "## Question 7\n",
    "Write a program to find how many times substring “Emma” appears in the given string.\n",
    "\n",
    "Given:\n",
    "\n",
    "str_x = \"Emma is good developer. Emma is a writer\""
   ]
  },
  {
   "cell_type": "code",
   "execution_count": 9,
   "id": "f93c7c85",
   "metadata": {},
   "outputs": [
    {
     "name": "stdout",
     "output_type": "stream",
     "text": [
      "2\n"
     ]
    }
   ],
   "source": [
    "str_x = \"Emma is good developer. Emma is a writer\"\n",
    "# use count method of a str class\n",
    "cnt = str_x.count(\"Emma\")\n",
    "print(cnt)"
   ]
  },
  {
   "cell_type": "markdown",
   "id": "4dbefbb0",
   "metadata": {},
   "source": [
    "## Question 8\n",
    "Print the following pattern\n",
    "```\n",
    "1 \n",
    "2 2 \n",
    "3 3 3 \n",
    "4 4 4 4 \n",
    "5 5 5 5 5\n",
    "```"
   ]
  },
  {
   "cell_type": "code",
   "execution_count": 14,
   "id": "d1b54544",
   "metadata": {},
   "outputs": [
    {
     "name": "stdout",
     "output_type": "stream",
     "text": [
      "\n",
      "\n",
      "1 \n",
      "\n",
      "2 2 \n",
      "\n",
      "3 3 3 \n",
      "\n",
      "4 4 4 4 \n",
      "\n",
      "5 5 5 5 5 \n",
      "\n",
      "6 6 6 6 6 6 \n",
      "\n",
      "7 7 7 7 7 7 7 \n",
      "\n",
      "8 8 8 8 8 8 8 8 \n",
      "\n",
      "9 9 9 9 9 9 9 9 9 \n",
      "\n"
     ]
    }
   ],
   "source": [
    "for num in range(10):\n",
    "    for i in range(num):\n",
    "        print (num, end=\" \") #print number\n",
    "    # new line after each row to display pattern correctly\n",
    "    print(\"\\n\")"
   ]
  },
  {
   "cell_type": "markdown",
   "id": "f9c0e439",
   "metadata": {},
   "source": [
    "## Question 9\n",
    "Write a program to check if the given number is a palindrome number.\n",
    "\n",
    "A palindrome number is a number that is the same after reverse. For example, 545, is the palindrome numbers\n",
    "\n",
    "Expected Output:\n",
    "\n",
    "original number 121\n",
    "\n",
    "Yes. given number is palindrome number\n",
    "\n",
    "original number 125\n",
    "\n",
    "No. given number is not palindrome number"
   ]
  },
  {
   "cell_type": "code",
   "execution_count": 15,
   "id": "4721a544",
   "metadata": {},
   "outputs": [
    {
     "name": "stdout",
     "output_type": "stream",
     "text": [
      "Enter a number6789\n",
      "Reversed Number is: 9876\n"
     ]
    }
   ],
   "source": [
    "# the number to be reversed\n",
    "num = int(input(\"Enter a number\"))\n",
    "\n",
    "# the number after reversal\n",
    "reversed_num = 0\n",
    "\n",
    "# start a while loop till complete number has been reversed\n",
    "while num != 0 :\n",
    "    \n",
    "    # taking modulo with 10 gives us the last digit of num\n",
    "    curr_digit = num % 10\n",
    "    \n",
    "    # appending the last digit of num to reversed_num\n",
    "    # for this we multiply the curr reversed_num by 10 and add curr_digit to it\n",
    "    \n",
    "    reversed_num = 10*reversed_num \n",
    "    reversed_num = reversed_num + curr_digit\n",
    "    \n",
    "    # remove the last digit from num by dividing it by 10\n",
    "    num = num // 10\n",
    "    \n",
    "# we get the reversed_num\n",
    "print(\"Reversed Number is: \" + str(reversed_num))"
   ]
  },
  {
   "cell_type": "markdown",
   "id": "20f18084",
   "metadata": {},
   "source": [
    "## Question 10\n",
    "Create a new list from two list using the following condition\n",
    "\n",
    "Given two list of numbers, write a program to create a new list such that the new list should contain odd numbers from the first list and even numbers from the second list.\n",
    "\n",
    "Given:\n",
    "\n",
    "list1 = [10, 20, 25, 30, 35]\n",
    "\n",
    "list2 = [40, 45, 60, 75, 90]\n",
    "\n",
    "Expected Output:\n",
    "\n",
    "result list: [25, 35, 40, 60, 90]"
   ]
  },
  {
   "cell_type": "code",
   "execution_count": 18,
   "id": "ddb48e38",
   "metadata": {},
   "outputs": [
    {
     "name": "stdout",
     "output_type": "stream",
     "text": [
      "[25, 35, 40, 60, 90]\n"
     ]
    }
   ],
   "source": [
    "result_list = []\n",
    "list1 = [10, 20, 25, 30, 35]\n",
    "list2 = [40, 45, 60, 75, 90]\n",
    "for num in list1:\n",
    "    if num % 2 != 0:\n",
    "        result_list.append(num)\n",
    "        \n",
    "for num in list2:\n",
    "    if num % 2 == 0:\n",
    "        result_list.append(num)\n",
    "    \n",
    "print(result_list)\n",
    "    "
   ]
  },
  {
   "cell_type": "markdown",
   "id": "a7d723b5",
   "metadata": {},
   "source": [
    "## Question 11\n",
    "Write a Program to extract each digit from an integer in the reverse order.\n",
    "For example, If the given int is 7536, the output shall be “6 3 5 7“, with a space separating the digits."
   ]
  },
  {
   "cell_type": "code",
   "execution_count": 19,
   "id": "8bd928ff",
   "metadata": {},
   "outputs": [
    {
     "name": "stdout",
     "output_type": "stream",
     "text": [
      "Given number 7536\n",
      "6 3 5 7 "
     ]
    }
   ],
   "source": [
    "number = 7536\n",
    "print(\"Given number\", number)\n",
    "while number > 0:\n",
    "    # get the last digit\n",
    "    digit = number % 10 #modulus returns remainder \n",
    "    # remove the last digit and repeat the loop\n",
    "    number = number // 10\n",
    "    print(digit, end=\" \")"
   ]
  },
  {
   "cell_type": "markdown",
   "id": "3049eb01",
   "metadata": {},
   "source": [
    "## Question 12\n",
    "Calculate income tax for the given income by adhering to the rules below:\n",
    "```\n",
    "Taxable Income\tRate (in %)\n",
    "First  $10,000\t0\n",
    "Next   $10,000\t10\n",
    "The remaining\t20\n",
    "```\n",
    "Expected Output:\n",
    "\n",
    "For example, suppose the taxable income is 45000, and the income tax payable is\n",
    "```\n",
    "10000*0% + 10000*10%  + 25000*20% = $6000.\n",
    "```"
   ]
  },
  {
   "cell_type": "code",
   "execution_count": 22,
   "id": "fe491675",
   "metadata": {},
   "outputs": [
    {
     "name": "stdout",
     "output_type": "stream",
     "text": [
      "Income Tax for $45000 is $6000.00\n"
     ]
    }
   ],
   "source": [
    "def calculate_income_tax(income):\n",
    "    # Define the tax rates and income brackets\n",
    "    first_bracket = 10000  # First $10,000\n",
    "    second_bracket = 10000  # Next $10,000\n",
    "    rate_first_bracket = 0  # Rate for the first bracket\n",
    "    rate_second_bracket = 10  # Rate for the second bracket\n",
    "    rate_remaining = 20  # Rate for the remaining income\n",
    "\n",
    "    if income <= first_bracket:\n",
    "        # If income is within the first bracket\n",
    "        tax = income * (rate_first_bracket / 100)\n",
    "    elif income <= first_bracket + second_bracket:\n",
    "        # If income is within the second bracket\n",
    "        tax = (first_bracket * (rate_first_bracket / 100)) + ((income - first_bracket) * (rate_second_bracket / 100))\n",
    "    else:\n",
    "        # If income is above the second bracket\n",
    "        tax = (first_bracket * (rate_first_bracket / 100)) + (second_bracket * (rate_second_bracket / 100)) + ((income - first_bracket - second_bracket) * (rate_remaining / 100))\n",
    "\n",
    "    return tax\n",
    "\n",
    "# Example usage:\n",
    "income = 45000\n",
    "income_tax = calculate_income_tax(income)\n",
    "print(f\"Income Tax for ${income} is ${income_tax:.2f}\")\n"
   ]
  },
  {
   "cell_type": "markdown",
   "id": "e3272bc2",
   "metadata": {},
   "source": [
    "## Question 13\n",
    "Print multiplication table from 1 to 10"
   ]
  },
  {
   "cell_type": "code",
   "execution_count": 24,
   "id": "65e67959",
   "metadata": {},
   "outputs": [
    {
     "name": "stdout",
     "output_type": "stream",
     "text": [
      "1 2 3 4 5 6 7 8 9 10 \t\t\n",
      "2 4 6 8 10 12 14 16 18 20 \t\t\n",
      "3 6 9 12 15 18 21 24 27 30 \t\t\n",
      "4 8 12 16 20 24 28 32 36 40 \t\t\n",
      "5 10 15 20 25 30 35 40 45 50 \t\t\n",
      "6 12 18 24 30 36 42 48 54 60 \t\t\n",
      "7 14 21 28 35 42 49 56 63 70 \t\t\n",
      "8 16 24 32 40 48 56 64 72 80 \t\t\n",
      "9 18 27 36 45 54 63 72 81 90 \t\t\n",
      "10 20 30 40 50 60 70 80 90 100 \t\t\n"
     ]
    }
   ],
   "source": [
    "for i in range(1, 11):\n",
    "    for j in range(1, 11):\n",
    "        print(i * j, end=\" \")\n",
    "    print(\"\\t\\t\")"
   ]
  },
  {
   "cell_type": "markdown",
   "id": "0062f589",
   "metadata": {},
   "source": [
    "## Question 14\n",
    "Print a downward Half-Pyramid Pattern of Star (asterisk)"
   ]
  },
  {
   "cell_type": "code",
   "execution_count": 25,
   "id": "7475a313",
   "metadata": {},
   "outputs": [
    {
     "name": "stdout",
     "output_type": "stream",
     "text": [
      "* * * * *  \n",
      "* * * *  \n",
      "* * *  \n",
      "* *  \n",
      "*  \n",
      " \n"
     ]
    }
   ],
   "source": [
    "for i in range(6, 0, -1):\n",
    "    for j in range(0, i - 1):\n",
    "        print(\"*\", end=' ')\n",
    "    print(\" \")"
   ]
  },
  {
   "cell_type": "markdown",
   "id": "481fa20d",
   "metadata": {},
   "source": [
    "## Question 15\n",
    "Write a function called exponent(base, exp) that returns an int value of base raises to the power of exp.\n",
    "\n",
    "Note: here exp is a non-negative integer, and the base is an integer.\n",
    "\n",
    "Expected output:\n",
    "\n",
    "```\n",
    "Case 1:\n",
    "\n",
    "base = 2\n",
    "exponent = 5\n",
    "\n",
    "2 raises to the power of 5: 32 \n",
    "i.e. (2 *2 * 2 *2 *2 = 32)\n",
    "```\n",
    "\n",
    "```\n",
    "Case 2:\n",
    "\n",
    "base = 5\n",
    "exponent = 4\n",
    "\n",
    "5 raises to the power of 4 is: 625 \n",
    "i.e. (5 *5 * 5 *5 = 625)\n",
    "```"
   ]
  },
  {
   "cell_type": "code",
   "execution_count": 26,
   "id": "6ae10007",
   "metadata": {},
   "outputs": [
    {
     "name": "stdout",
     "output_type": "stream",
     "text": [
      "5 raises to the power of 4 is:  625\n"
     ]
    }
   ],
   "source": [
    "def exponent(base, exp):\n",
    "    num = exp\n",
    "    result = 1\n",
    "    while num > 0:\n",
    "        result = result * base\n",
    "        num = num - 1\n",
    "    print(base, \"raises to the power of\", exp, \"is: \", result)\n",
    "    \n",
    "exponent(5, 4)   \n"
   ]
  },
  {
   "cell_type": "code",
   "execution_count": null,
   "id": "f43c4351",
   "metadata": {},
   "outputs": [],
   "source": []
  }
 ],
 "metadata": {
  "kernelspec": {
   "display_name": "Python 3 (ipykernel)",
   "language": "python",
   "name": "python3"
  },
  "language_info": {
   "codemirror_mode": {
    "name": "ipython",
    "version": 3
   },
   "file_extension": ".py",
   "mimetype": "text/x-python",
   "name": "python",
   "nbconvert_exporter": "python",
   "pygments_lexer": "ipython3",
   "version": "3.11.3"
  }
 },
 "nbformat": 4,
 "nbformat_minor": 5
}
