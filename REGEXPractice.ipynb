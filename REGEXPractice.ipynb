{
 "cells": [
  {
   "cell_type": "markdown",
   "id": "fde5325e",
   "metadata": {},
   "source": [
    "# REGEX"
   ]
  },
  {
   "cell_type": "code",
   "execution_count": 1,
   "id": "f6c28d0b",
   "metadata": {},
   "outputs": [],
   "source": [
    "import re"
   ]
  },
  {
   "cell_type": "code",
   "execution_count": 2,
   "id": "2bc83ae9",
   "metadata": {},
   "outputs": [
    {
     "name": "stdout",
     "output_type": "stream",
     "text": [
      "['A', 'ASCII', 'DEBUG', 'DOTALL', 'I', 'IGNORECASE', 'L', 'LOCALE', 'M', 'MULTILINE', 'Match', 'NOFLAG', 'Pattern', 'RegexFlag', 'S', 'Scanner', 'T', 'TEMPLATE', 'U', 'UNICODE', 'VERBOSE', 'X', '_MAXCACHE', '__all__', '__builtins__', '__cached__', '__doc__', '__file__', '__loader__', '__name__', '__package__', '__path__', '__spec__', '__version__', '_cache', '_casefix', '_compile', '_compile_repl', '_compiler', '_constants', '_expand', '_parser', '_pickle', '_special_chars_map', '_subx', 'compile', 'copyreg', 'enum', 'error', 'escape', 'findall', 'finditer', 'fullmatch', 'functools', 'match', 'purge', 'search', 'split', 'sub', 'subn', 'template']\n"
     ]
    }
   ],
   "source": [
    "print(dir(re))"
   ]
  },
  {
   "cell_type": "code",
   "execution_count": 3,
   "id": "e3f9e3d4",
   "metadata": {},
   "outputs": [
    {
     "data": {
      "text/plain": [
       "['A',\n",
       " 'ASCII',\n",
       " 'DEBUG',\n",
       " 'DOTALL',\n",
       " 'I',\n",
       " 'IGNORECASE',\n",
       " 'L',\n",
       " 'LOCALE',\n",
       " 'M',\n",
       " 'MULTILINE',\n",
       " 'Match',\n",
       " 'NOFLAG',\n",
       " 'Pattern',\n",
       " 'RegexFlag',\n",
       " 'S',\n",
       " 'Scanner',\n",
       " 'T',\n",
       " 'TEMPLATE',\n",
       " 'U',\n",
       " 'UNICODE',\n",
       " 'VERBOSE',\n",
       " 'X',\n",
       " 'compile',\n",
       " 'copyreg',\n",
       " 'enum',\n",
       " 'error',\n",
       " 'escape',\n",
       " 'findall',\n",
       " 'finditer',\n",
       " 'fullmatch',\n",
       " 'functools',\n",
       " 'match',\n",
       " 'purge',\n",
       " 'search',\n",
       " 'split',\n",
       " 'sub',\n",
       " 'subn',\n",
       " 'template']"
      ]
     },
     "execution_count": 3,
     "metadata": {},
     "output_type": "execute_result"
    }
   ],
   "source": [
    "# methods and attributes\n",
    "[i for i in dir(re) if \"_\" not in i]"
   ]
  },
  {
   "cell_type": "markdown",
   "id": "7033a18d",
   "metadata": {},
   "source": [
    "## 1.\n",
    "Search python in the text below:\n",
    "\n",
    "text = \"I write code in Python.\""
   ]
  },
  {
   "cell_type": "code",
   "execution_count": 6,
   "id": "7adc2360",
   "metadata": {},
   "outputs": [
    {
     "name": "stdout",
     "output_type": "stream",
     "text": [
      "Match found True\n"
     ]
    }
   ],
   "source": [
    "text = \"I write code in Python.\"\n",
    "pattern = \"Python\"\n",
    "match = re.search(pattern, text)\n",
    "print(\"Match found\", bool(match))"
   ]
  },
  {
   "cell_type": "markdown",
   "id": "9c272e38",
   "metadata": {},
   "source": [
    "## 2.\n",
    "Find all occurrences of a pattern 'a' in the text given below:\n",
    "\n",
    "pattern = \"a\"\n",
    "\n",
    "text = \"I love to code in Python and it's amazing!\""
   ]
  },
  {
   "cell_type": "code",
   "execution_count": 8,
   "id": "d9d29498",
   "metadata": {},
   "outputs": [
    {
     "name": "stdout",
     "output_type": "stream",
     "text": [
      "['a', 'a', 'a']\n",
      "match found 3\n"
     ]
    }
   ],
   "source": [
    "text = \"I love to code in Python and it's amazing!\"\n",
    "pattern = 'a'\n",
    "find = re.findall(pattern, text)\n",
    "print(find)\n",
    "print(\"match found\", len(find))"
   ]
  },
  {
   "cell_type": "markdown",
   "id": "aef82c5a",
   "metadata": {},
   "source": [
    "## 3.\n",
    "Split the string in the text given below:\n",
    "\n",
    "text = \"I like Python and it is amazing!\""
   ]
  },
  {
   "cell_type": "code",
   "execution_count": 9,
   "id": "91dab2fd",
   "metadata": {},
   "outputs": [
    {
     "name": "stdout",
     "output_type": "stream",
     "text": [
      "['I', 'like', 'Python', 'and', 'it', 'is', 'amazing!']\n"
     ]
    }
   ],
   "source": [
    "text = \"I like Python and it is amazing!\"\n",
    "pattern = \"\\s\"\n",
    "split = re.split(pattern, text)\n",
    "print(split)"
   ]
  },
  {
   "cell_type": "markdown",
   "id": "b863f626",
   "metadata": {},
   "source": [
    "## 4.\n",
    "Replace a python with java in the following text:\n",
    "\n",
    "pattern = \"Python\"\n",
    "\n",
    "replacement = \"Java\"\n",
    "\"\n",
    "text = \"Python is fun\""
   ]
  },
  {
   "cell_type": "code",
   "execution_count": 16,
   "id": "a21285f2",
   "metadata": {},
   "outputs": [
    {
     "name": "stdout",
     "output_type": "stream",
     "text": [
      "Java is fun\n"
     ]
    }
   ],
   "source": [
    "pattern = \"Python\"\n",
    "replacement = \"Java\"    \n",
    "text = \"Python is fun\"\n",
    "rep = re.sub(pattern, replacement, text) # To replace a string in Python, the regex sub() method is used.\n",
    "print(rep)"
   ]
  },
  {
   "cell_type": "markdown",
   "id": "3b824b99",
   "metadata": {},
   "source": [
    "## 5.\n",
    "Using ^ to match the start of a string\n",
    "\n",
    "pattern = \"^I\"\n",
    "\n",
    "text = \"I love Python!\""
   ]
  },
  {
   "cell_type": "code",
   "execution_count": 15,
   "id": "de1f9f99",
   "metadata": {},
   "outputs": [
    {
     "name": "stdout",
     "output_type": "stream",
     "text": [
      "Match Found True\n"
     ]
    }
   ],
   "source": [
    "text = \"I love Python\"\n",
    "pattern = \"^I\"                            # ^ means starts with\n",
    "match_start_str = re.search(pattern, text)\n",
    "print(\"Match Found\", bool(match_start_str))"
   ]
  },
  {
   "cell_type": "markdown",
   "id": "7ab70e19",
   "metadata": {},
   "source": [
    "## 7. \n",
    "Using $ to match the end of a string\n",
    "\n",
    "pattern = \"Python!$\"\n",
    "\n",
    "text = \"Python programming is great!\""
   ]
  },
  {
   "cell_type": "code",
   "execution_count": 14,
   "id": "764aab86",
   "metadata": {},
   "outputs": [
    {
     "name": "stdout",
     "output_type": "stream",
     "text": [
      "Match Found False\n"
     ]
    }
   ],
   "source": [
    "text = \"Python programming is great!\"\n",
    "pattern = \"Python!$\"                     # $ means ends with\n",
    "match_end_str = re.search(pattern, text) \n",
    "print(\"Match Found\", bool(match_end_str)) # bool checks whether the value is true or false"
   ]
  },
  {
   "cell_type": "markdown",
   "id": "b7907f11",
   "metadata": {},
   "source": [
    "## 8.\n",
    "Using [] to create a character set\n",
    "\n",
    "pattern = \"[Pp]ython\"\n",
    "\n",
    "text = \"I write code in python and Python!\""
   ]
  },
  {
   "cell_type": "code",
   "execution_count": 18,
   "id": "6247355a",
   "metadata": {},
   "outputs": [
    {
     "name": "stdout",
     "output_type": "stream",
     "text": [
      "Match Found ['python', 'Python']\n",
      "Match Found 2\n"
     ]
    }
   ],
   "source": [
    "pattern = \"[Pp]ython\"\n",
    "text = \"I write code in python and Python!\"\n",
    "create_charc = re.findall(pattern, text)\n",
    "print(\"Match Found\", create_charc)\n",
    "print(\"Match Found\", len(create_charc))"
   ]
  },
  {
   "cell_type": "markdown",
   "id": "fc58a950",
   "metadata": {},
   "source": [
    "## 9. \n",
    "Using . to match any character\n",
    "\n",
    "pattern = \"Py...n\"\n",
    "\n",
    "text = \"I love Python, Pyt3on, Py45n, and Py@#n!\""
   ]
  },
  {
   "cell_type": "code",
   "execution_count": 19,
   "id": "99bfba80",
   "metadata": {},
   "outputs": [
    {
     "name": "stdout",
     "output_type": "stream",
     "text": [
      "['Python', 'Pyt3on']\n",
      "Match Found 2\n"
     ]
    }
   ],
   "source": [
    "pattern = \"Py...n\"\n",
    "text = \"I love Python, Pyt3on, Py45n, and Py@#n!\"\n",
    "match_charc = re.findall(pattern, text)\n",
    "print(match_charc)\n",
    "print(\"Match Found\", len(match_charc))"
   ]
  },
  {
   "cell_type": "markdown",
   "id": "dde7a55b",
   "metadata": {},
   "source": [
    "## 10. \n",
    "Using * to match zero or more occurrences of a character\n",
    "\n",
    "pattern = \"Py.*n\"\n",
    "\n",
    "count = 0\n",
    "\n",
    "text = [\"Python coding\", \"Pyt3on\",\"Java\", \"Py45n\", \"Py@#n\",\"Pyn\"]"
   ]
  },
  {
   "cell_type": "code",
   "execution_count": 20,
   "id": "b92389ac",
   "metadata": {},
   "outputs": [
    {
     "name": "stdout",
     "output_type": "stream",
     "text": [
      "Matches found: 5\n"
     ]
    }
   ],
   "source": [
    "pattern = \"Py.*n\" # *\tzero or more occurrences\n",
    "count = 0\n",
    "text = [\"Python coding\", \"Pyt3on\",\"Java\", \"Py45n\", \"Py@#n\",\"Pyn\"] \n",
    "for i in text:\n",
    "    if(re.findall(pattern, i)):\n",
    "        count+=1\n",
    "print(\"Matches found:\", count)"
   ]
  },
  {
   "cell_type": "markdown",
   "id": "e0c6b436",
   "metadata": {},
   "source": [
    "## 11.\n",
    "Using + to match one or more occurrences of a character\n",
    "\n",
    "pattern = \"Py.+n\"\n",
    "\n",
    "count = 0\n",
    "\n",
    "text = [\"Python coding\", \"Pyt3on\",\"Java\", \"Py45n\", \"Py@#n\",\"Pyn\"]\n"
   ]
  },
  {
   "cell_type": "code",
   "execution_count": 21,
   "id": "e954a0f0",
   "metadata": {},
   "outputs": [
    {
     "name": "stdout",
     "output_type": "stream",
     "text": [
      "Match Found 4\n"
     ]
    }
   ],
   "source": [
    "pattern = \"Py.+n\" # +\tOne or more occurrences\n",
    "count = 0\n",
    "text = [\"Python coding\", \"Pyt3on\",\"Java\", \"Py45n\", \"Py@#n\",\"Pyn\"]\n",
    "for i in text:\n",
    "    if re.findall(pattern, i):\n",
    "        count += 1\n",
    "print(\"Match Found\", count)"
   ]
  },
  {
   "cell_type": "markdown",
   "id": "357c6840",
   "metadata": {},
   "source": [
    "## 12.\n",
    "Using ? to match zero or one occurrence of a character\n",
    "\n",
    "pattern = \"Py.?n\"\n",
    "\n",
    "count = 0\n",
    "\n",
    "text = [\"Python coding\", \"Pyt3on\",\"Java\", \"Py45n\", \"Py@#n\",\"Pyn\"]"
   ]
  },
  {
   "cell_type": "code",
   "execution_count": 25,
   "id": "9d5d084d",
   "metadata": {},
   "outputs": [
    {
     "name": "stdout",
     "output_type": "stream",
     "text": [
      "Match Found 1\n"
     ]
    }
   ],
   "source": [
    "pattern = \"Py.?n\" # ?\tZero or one occurrences\n",
    "count = 0\n",
    "text = [\"Python coding\", \"Pyt3on\",\"Java\", \"Py45n\", \"Py@#n\",\"Pyn\"]\n",
    "for i in text:\n",
    "    if re.findall(pattern, i):\n",
    "        count += 1\n",
    "print(\"Match Found\", count)"
   ]
  },
  {
   "cell_type": "markdown",
   "id": "08633909",
   "metadata": {},
   "source": [
    "## 13.\n",
    "Using {} to specify the number of occurrences of a character\n",
    "\n",
    "pattern = \"Py{1,2}n\"\n",
    "\n",
    "text = \"I love Pyn, Pyyn, and Pyyyn!\""
   ]
  },
  {
   "cell_type": "code",
   "execution_count": 27,
   "id": "8dd31e0e",
   "metadata": {},
   "outputs": [
    {
     "name": "stdout",
     "output_type": "stream",
     "text": [
      "Match Found 2\n",
      "['Pyn', 'Pyyn']\n"
     ]
    }
   ],
   "source": [
    "pattern = \"Py{1,2}n\" # {}\tExactly the specified number of occurrences\n",
    "text = \"I love Pyn, Pyyn, and Pyyyn!\"\n",
    "matches = re.findall(pattern, text)\n",
    "print(\"Match Found\", len(matches))\n",
    "print(matches)"
   ]
  },
  {
   "cell_type": "markdown",
   "id": "199ccaee",
   "metadata": {},
   "source": [
    "## 14.\n",
    "Using \\d to match digits\n",
    "\n",
    "pattern = \"\\d+\"\n",
    "\n",
    "text = \"My phone number is 123-456-7890."
   ]
  },
  {
   "cell_type": "code",
   "execution_count": 32,
   "id": "b807aca2",
   "metadata": {},
   "outputs": [
    {
     "name": "stdout",
     "output_type": "stream",
     "text": [
      "['123', '456', '7890']\n",
      "Match Found 3\n"
     ]
    }
   ],
   "source": [
    "pattern = \"\\d+\"  # \\d\tReturns a match where the string contains digits (numbers from 0-9)\n",
    "text = \"My phone number is 123-456-7890\"\n",
    "phone_num = re.findall(pattern, text)\n",
    "print(phone_num)\n",
    "print(\"Match Found\", len(phone_num))"
   ]
  },
  {
   "cell_type": "markdown",
   "id": "649b4e85",
   "metadata": {},
   "source": [
    "## 15.\n",
    "Using \\w to match alphanumeric characters\n",
    "\n",
    "pattern = \"\\w+\"\n",
    "\n",
    "text = \"I_love_Python!\""
   ]
  },
  {
   "cell_type": "code",
   "execution_count": 34,
   "id": "010799be",
   "metadata": {},
   "outputs": [
    {
     "name": "stdout",
     "output_type": "stream",
     "text": [
      "['I_love_Python']\n",
      "Match Found 1\n"
     ]
    }
   ],
   "source": [
    "pattern = \"\\w+\" # \\w\tReturns a match where the string contains any word characters (characters from a to Z, digits from 0-9, and the underscore _ character)\n",
    "text = \"I_love_Python!\"\n",
    "match = re.findall(pattern, text)\n",
    "print(match)\n",
    "print(\"Match Found\", len(match))"
   ]
  },
  {
   "cell_type": "markdown",
   "id": "b6ab0c09",
   "metadata": {},
   "source": [
    "## 16.\n",
    "Using \\s to match whitespace characters\n",
    "\n",
    "pattern = \"\\s+\"\n",
    "\n",
    "text = \"I love Python!\""
   ]
  },
  {
   "cell_type": "code",
   "execution_count": 37,
   "id": "30765e32",
   "metadata": {},
   "outputs": [
    {
     "name": "stdout",
     "output_type": "stream",
     "text": [
      "[' ', ' ']\n",
      "Match Found 2\n"
     ]
    }
   ],
   "source": [
    "pattern = \"\\s+\" # \\s\tReturns a match where the string contains a white space character\n",
    "text = \"I love Python!\"\n",
    "match = re.findall(pattern, text)\n",
    "print(match)\n",
    "print(\"Match Found\", len(match))"
   ]
  },
  {
   "cell_type": "markdown",
   "id": "690d6f3c",
   "metadata": {},
   "source": [
    "## 17. \n",
    "Using | as an OR operator\n",
    "\n",
    "pattern = \"Python|Java\"\n",
    "\n",
    "text = \"I write code in Python and Java!\""
   ]
  },
  {
   "cell_type": "code",
   "execution_count": 39,
   "id": "c10f4ba3",
   "metadata": {},
   "outputs": [
    {
     "name": "stdout",
     "output_type": "stream",
     "text": [
      "['Python', 'Java']\n",
      "Match Found 2\n"
     ]
    }
   ],
   "source": [
    "pattern = \"Python|Java\" # |\tEither or\n",
    "text = \"I write code in Python and Java!\"\n",
    "match = re.findall(pattern, text)\n",
    "print(match)\n",
    "print(\"Match Found\", len(match))"
   ]
  },
  {
   "cell_type": "markdown",
   "id": "451cb852",
   "metadata": {},
   "source": [
    "## 18.\n",
    "Using () to group patterns\n",
    "\n",
    "pattern = \"(\\d{3})-(\\d{3})-(\\d{4})\"\n",
    "\n",
    "text = \"My phone number is 123-456-7890.\""
   ]
  },
  {
   "cell_type": "code",
   "execution_count": 41,
   "id": "b602bc27",
   "metadata": {},
   "outputs": [
    {
     "name": "stdout",
     "output_type": "stream",
     "text": [
      "Area Code 123\n",
      "Local Exchange 456\n",
      "Line Number 7890\n"
     ]
    }
   ],
   "source": [
    "pattern = \"(\\d{3})-(\\d{3})-(\\d{4})\"\n",
    "text = \"My phone number is 123-456-7890.\"\n",
    "match = re.search(pattern, text)\n",
    "if match:\n",
    "    print(\"Area Code\", match.group(1))\n",
    "    print(\"Local Exchange\", match.group(2))\n",
    "    print(\"Line Number\", match.group(3))"
   ]
  },
  {
   "cell_type": "markdown",
   "id": "053860dd",
   "metadata": {},
   "source": [
    "## 19.\n",
    "From the list keep only the lines that start with a number or a letter after > sign.\n",
    "```\n",
    "txt = \"\"\"\n",
    ">Venues\n",
    ">Marketing\n",
    ">medalists\n",
    ">Controversies\n",
    ">Paralympics\n",
    ">snowboarding\n",
    ">[1]\n",
    ">Netherlands\n",
    ">[2]\n",
    ">Norway\n",
    ">[10]\n",
    ">[11]\n",
    ">References\n",
    ">edit\n",
    ">[12]\n",
    ">Norway\n",
    ">Germany\n",
    ">Canada\n",
    ">Netherlands\n",
    ">Japan\n",
    ">Italy\n",
    ">Belarus\n",
    ">China\n",
    ">Slovakia\n",
    "<$#%#$%\n",
    "<#$#$$\n",
    "<**&&^^\n",
    ">Slovenia\n",
    ">Belgium\n",
    ">Spain\n",
    ">Kazakhstan\n",
    ">[15]\n",
    ">1964\n",
    ">1968\n",
    ">1972\n",
    ">1992\n",
    ">1996\n",
    ">2000\"\"\"\n",
    "```"
   ]
  },
  {
   "cell_type": "code",
   "execution_count": 53,
   "id": "1647a2a6",
   "metadata": {},
   "outputs": [
    {
     "name": "stdout",
     "output_type": "stream",
     "text": [
      "['>Venues', '>Marketing', '>medalists', '>Controversies', '>Paralympics', '>snowboarding', '>Netherlands', '>Norway', '>References', '>edit', '>Norway', '>Germany', '>Canada', '>Netherlands', '>Japan', '>Italy', '>Belarus', '>China', '>Slovakia', '>Slovenia', '>Belgium', '>Spain', '>Kazakhstan', '>1964', '>1968', '>1972', '>1992', '>1996', '>2000']\n"
     ]
    }
   ],
   "source": [
    "import re\n",
    "txt = \"\"\"\n",
    ">Venues\n",
    ">Marketing\n",
    ">medalists\n",
    ">Controversies\n",
    ">Paralympics\n",
    ">snowboarding\n",
    ">[1]\n",
    ">Netherlands\n",
    ">[2]\n",
    ">Norway\n",
    ">[10]\n",
    ">[11]\n",
    ">References\n",
    ">edit\n",
    ">[12]\n",
    ">Norway\n",
    ">Germany\n",
    ">Canada\n",
    ">Netherlands\n",
    ">Japan\n",
    ">Italy\n",
    ">Belarus\n",
    ">China\n",
    ">Slovakia\n",
    "<$#%#$%\n",
    "<#$#$$\n",
    "<**&&^^\n",
    ">Slovenia\n",
    ">Belgium\n",
    ">Spain\n",
    ">Kazakhstan\n",
    ">[15]\n",
    ">1964\n",
    ">1968\n",
    ">1972\n",
    ">1992\n",
    ">1996\n",
    ">2000\"\"\"\n",
    "pattern = \"^>\\w+\"\n",
    "data = re.findall(pattern, txt, re.M)\n",
    "print(data)"
   ]
  },
  {
   "cell_type": "markdown",
   "id": "038cae30",
   "metadata": {},
   "source": [
    "## 20.\n",
    "Write a regex so that the full email addresses are extracted.\n",
    "\n",
    "i.e.: mike@protonmail.com"
   ]
  },
  {
   "cell_type": "code",
   "execution_count": 61,
   "id": "aecb290c",
   "metadata": {},
   "outputs": [
    {
     "name": "stdout",
     "output_type": "stream",
     "text": [
      "['franky@google.com', 'sinatra123@yahoo.com']\n"
     ]
    }
   ],
   "source": [
    "txt ='The advancements in biomarine studies franky@google.com with the investments necessary and Davos sinatra123@yahoo.com Then The New Yorker article on wind farms...'\n",
    "pattern = r'\\S+@\\S+'\n",
    "emails=re.findall(pattern, txt)\n",
    "print(emails)\n"
   ]
  },
  {
   "cell_type": "markdown",
   "id": "4ab74b12",
   "metadata": {},
   "source": [
    "## 21.\n",
    "This time write a regex to get only the part of the email before the \"@\" sign and include the \"@\" sign.\n",
    "\n",
    "i.e: only mike@ part from mike@protonmail.com\n",
    "\n",
    "txt ='The advancements in biomarine studies franky@google.com, with the investments necessary and Davos sinatra123@yahoo.com Then The New Yorker article on wind farms...'"
   ]
  },
  {
   "cell_type": "code",
   "execution_count": 63,
   "id": "c0f9c62d",
   "metadata": {},
   "outputs": [
    {
     "name": "stdout",
     "output_type": "stream",
     "text": [
      "['franky@', 'sinatra123@']\n"
     ]
    }
   ],
   "source": [
    "txt ='The advancements in biomarine studies franky@google.com, with the investments necessary and Davos sinatra123@yahoo.com Then The New Yorker article on wind farms...'\n",
    "pattern = r'\\S+@'\n",
    "email = re.findall(pattern, txt)\n",
    "print(email)"
   ]
  },
  {
   "cell_type": "markdown",
   "id": "30275c85",
   "metadata": {},
   "source": [
    "## 22.\n",
    "This time write a regex to get only the part of the email before the \"@\" sign excluding the \"@\" sign.\n",
    "i.e: only mike part from mike@protonmail.com\n",
    "\n",
    "txt ='The advancements in biomarine studies franky@google.com, with the investments necessary and Davos sinatra123@yahoo.com Then The New Yorker article on wind farms...'"
   ]
  },
  {
   "cell_type": "code",
   "execution_count": 70,
   "id": "85fc74d8",
   "metadata": {},
   "outputs": [
    {
     "name": "stdout",
     "output_type": "stream",
     "text": [
      "['franky', 'sinatra123']\n"
     ]
    }
   ],
   "source": [
    "txt ='The advancements in biomarine studies franky@google.com, with the investments necessary and Davos sinatra123@yahoo.com Then The New Yorker article on wind farms...'\n",
    "pattern = r'(\\S+)@'\n",
    "email = re.findall(pattern, txt)\n",
    "print(email)"
   ]
  },
  {
   "cell_type": "markdown",
   "id": "6cf392d8",
   "metadata": {},
   "source": [
    "## 23.\n",
    "Find the words with exactly 8 letters using regex.\n",
    "\n",
    "txt = '''Au pays parfume que le soleil caresse,\n",
    "J'ai connu, sous un dais d'arbres tout empourpres\n",
    "Et de palmiers d'ou pleut sur les yeux la paresse,\n",
    "Une dame creole aux charmes ignores.'''\n"
   ]
  },
  {
   "cell_type": "code",
   "execution_count": 72,
   "id": "82cb1085",
   "metadata": {},
   "outputs": [
    {
     "name": "stdout",
     "output_type": "stream",
     "text": [
      "['empourpr', 'palmiers']\n"
     ]
    }
   ],
   "source": [
    "txt = '''Au pays parfume que le soleil caresse,\n",
    "J'ai connu, sous un dais d'arbres tout empourpres\n",
    "Et de palmiers d'ou pleut sur les yeux la paresse,\n",
    "Une dame creole aux charmes ignores.'''\n",
    "pattern = r'\\w{8}'\n",
    "ans = re.findall(pattern, txt)\n",
    "print(ans)"
   ]
  },
  {
   "cell_type": "markdown",
   "id": "e8381104",
   "metadata": {},
   "source": [
    "## 24.\n",
    "Find the numbers starting with 212.\n",
    "\n",
    "txt = '''Ancient Script 21299: The Takenouchi documents are the ancient historical records that have been secretly preserved and passed down from generation to generation by the Takenouchi family, the head of family being the chief priest of the Koso Kotai Jingu shrine. 212-111-5932 '''"
   ]
  },
  {
   "cell_type": "code",
   "execution_count": 81,
   "id": "bf3bcbd3",
   "metadata": {},
   "outputs": [
    {
     "name": "stdout",
     "output_type": "stream",
     "text": [
      "['21299:', '212-111-5932']\n"
     ]
    }
   ],
   "source": [
    "txt = '''Ancient Script 21299: The Takenouchi documents are the ancient historical records that have been secretly preserved and passed down from generation to generation by the Takenouchi family, the head of family being the chief priest of the Koso Kotai Jingu shrine. 212-111-5932 '''\n",
    "pattern = r'212\\S+'\n",
    "numbers = re.findall(pattern, txt)\n",
    "print(numbers)"
   ]
  },
  {
   "cell_type": "markdown",
   "id": "e286927a",
   "metadata": {},
   "source": [
    "## 25.\n",
    "You are given stock prices for related financial tickers. (Symbols representing companies in the stock market)\n",
    "\n",
    "Find a way to extract the tickers mentioned in the report.\n",
    "\n",
    "i.e.: TSLA, NFLX ...\n",
    "    \n",
    "txt = \"\"\"Some of the prices were as following TSLA:749.50, ORCL: 50.50, GE: 10.90, MSFT: 170.50, BIDU: 121.40. As the macroeconomic developments continue we will update the prices. \"\"\"\n",
    "    "
   ]
  },
  {
   "cell_type": "code",
   "execution_count": 85,
   "id": "86691687",
   "metadata": {},
   "outputs": [
    {
     "name": "stdout",
     "output_type": "stream",
     "text": [
      "['TSLA:749.50,']\n"
     ]
    }
   ],
   "source": [
    "txt = \"\"\"Some of the prices were as following TSLA:749.50, ORCL: 50.50, GE: 10.90, MSFT: 170.50, BIDU: 121.40. As the macroeconomic developments continue we will update the prices. \"\"\"\n",
    "pattern = r'TSLA\\S+'\n",
    "ans = re.findall(pattern, txt)\n",
    "print(ans)"
   ]
  },
  {
   "cell_type": "markdown",
   "id": "ee22f7ae",
   "metadata": {},
   "source": [
    "## 26.\n",
    "Check whether the given strings contain 0xB0. \n",
    "\n",
    "Display a boolean result as shown below.\n",
    "\n",
    "line1 = 'start address: 0xA0, func1 address: 0xC0'\n",
    "\n",
    "line2 = 'end address: 0xFF, func2 address: 0xB0'\n",
    "\n",
    "```\n",
    ">>> bool(re.search(r'', line1))     ##### add your solution here\n",
    "False\n",
    ">>> bool(re.search(r'', line2))     ##### add your solution here\n",
    "True\n",
    "```"
   ]
  },
  {
   "cell_type": "code",
   "execution_count": 87,
   "id": "26ee14c2",
   "metadata": {},
   "outputs": [
    {
     "name": "stdout",
     "output_type": "stream",
     "text": [
      "False\n",
      "True\n"
     ]
    }
   ],
   "source": [
    "line1 = 'start address: 0xA0, func1 address: 0xC0'\n",
    "line2 = 'end address: 0xFF, func2 address: 0xB0'\n",
    "pattern = r'0xB0'\n",
    "check = re.search(pattern, line1)\n",
    "check1 = re.search(pattern, line2)\n",
    "\n",
    "print(bool(check))\n",
    "print(bool(check1))"
   ]
  }
 ],
 "metadata": {
  "kernelspec": {
   "display_name": "Python 3 (ipykernel)",
   "language": "python",
   "name": "python3"
  },
  "language_info": {
   "codemirror_mode": {
    "name": "ipython",
    "version": 3
   },
   "file_extension": ".py",
   "mimetype": "text/x-python",
   "name": "python",
   "nbconvert_exporter": "python",
   "pygments_lexer": "ipython3",
   "version": "3.11.3"
  }
 },
 "nbformat": 4,
 "nbformat_minor": 5
}
